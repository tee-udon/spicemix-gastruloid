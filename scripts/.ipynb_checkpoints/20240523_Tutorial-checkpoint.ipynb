{
 "cells": [
  {
   "cell_type": "markdown",
   "metadata": {},
   "source": [
    "# `spicemix` tutorial jupyter notebook\n",
    "\n",
    "This jupyter notebook consists of two parts:\n",
    "1. Theory behind `spicemix`, and \n",
    "2. Scripts for running `spicemix`. \n",
    "\n",
    "I am hoping that this notebook will give us some ideas on how to analyzing data, help us interpret the results, and understand the caveats that come with this type of analysis"
   ]
  },
  {
   "cell_type": "markdown",
   "metadata": {},
   "source": [
    "## 1. Theory behind `spicemix` \n",
    "\n",
    "`spicemix` stands for spatial identification of cells using matrix factorization. It essentially uses **BOTH** the information about the gene expression in single cells and their locations to define cell types. Using matrix factorization to define cell types itself is not novel, but combining coordinates modality into the analysis makes this algorithm quite powerful, especially in the era of spatial transcriptomics. \n",
    "\n",
    "To understand how `spicemix` works, I think it is worth discussing \n",
    "1. What matrix factorization is, what type of matrix factorization `spicemix` uses, and what matrix factorization do?\n",
    "2. How `spicemix` incorporates location information in this algorithm.\n",
    "\n",
    "### 1A. (Non-negative) Matrix factorization\n",
    "\n",
    "Matrix factorization is a linear algebra approach to decompose a big matrix into a product of two or more matrices. Matrix decomposition generally reduces the dimensionality of the data and enhances its interpretability. There are many types of matrix factorization because they are suitable applications. One of the factorization we may have used is called principal component analysis (PCA). In this type of matrix factorization, we get one matrix that tells us the new coordinate space that maximizes the variance of the original datapoints and the other matrix that tells us the locations of these datapoints in this new coordinate space. PCA is highly useful for projecting high-dimensional data onto 2-dimensional space since it attempts to maximize variance in the dataset, facilitating visualization and clustering of datapoints.\n",
    "\n",
    "However, if we were to perform PCA onto a cell-by-gene gene expression matrix, we could get distribution of gene expression, **but we would not be able to interpret the results.** This is because PCA does not have any constraints on the resulting matrix factorization i.e., the values in the resulting matrix can be negative. But we know that RNA counts is always greater than or equal to 0. Can we do better? \n",
    "\n",
    "Non-negative matrix factorization (NMF) circumvents this problem by enforcing the results to be non-negative. Let $n$ to be number of genes in the sample and $m$ to be the number of cells in the matrix. In NMF, an $(n \\times m)$ matrix $X$ will be approximated by the product of two smaller matrices, $W$ and $H$ with dimension $(n \\times k)$ and $(k \\times m)$, respectively. $k$ variable here is a hyperparameter that we have to decide and play with. It is usually way less than $n$ and $m$ such that it is interpretable. Too low of a value will make the results less accurate i.e., the error between the actual matrix $X$ and the approximated result from $WH$ is high. Too high of a value will be useless because you do not \"summarize\" any results here.\n",
    "\n",
    "Mathematically,\n",
    "$$\n",
    "X \\approx WH\n",
    "$$\n",
    "\n",
    "and NMF tries to find $W$ and $H$ that minimize the reconstruction error. In other words,\n",
    "$$\n",
    "\\underset{W, H}{\\arg \\min} \\, \\lVert X - WH\\rVert^2\n",
    "$$\n",
    "\n",
    "In the transcriptomics world, $X$ is a cell-by-gene expression matrix. $k$ then is the number of *metagenes* or groups of genes that define one cell type. We can then interpret matrix $W$ and $H$ as the following...\n",
    "1. $W$ has the dimension of the number of genes $n$ times the number of metagenes $k$. Each column $i$ of $W$ then tell us the combinations of genes that give rise to that metagene $i$. In other words, what are the genes that are classified in each metagene?\n",
    "2. $H$ has the dimension of the number of metagenes $k$ times the number of cells $m$. Each column $j$ then of $H$ tells us the combination of metagenes that give rise to that single cell transcriptomics.\n",
    "\n",
    "### 1B. Probabilistic graphical model\n",
    "It is certainly possible that cells that are distant will have similar gene expression profile, but this is quite rare. Most of the times, cells that have similar gene expression files locate next to one another in a group/tissue. To ensure this spatial consistency, `spicemix` uses probabilistic graphical model. For each field of view, the locations of cells and their relationships are modeled as a set of nodes $\\mathcal{V}$ and a set of edges $\\mathcal{E}$, respectively, forming a graph structure $\\mathcal{G} = (\\mathcal{V}, \\mathcal{E}).$\n",
    "\n",
    "Each node or cell $i$ contains parameters describing both 1. the metagene pattern of that cell through NMF I described in the previous section and 2. the similarities of metagene pattern between its neighboring cells. The likelihood function is then formulated by taking into account these parameters which can then be used to find the best parameters that best explain the metagenes in each single cell and maintain the similarity among metagenes in the neighboring cells. "
   ]
  },
  {
   "cell_type": "markdown",
   "metadata": {},
   "source": [
    "## 2. Scripts for test running `spicemix` on Server 2 "
   ]
  },
  {
   "cell_type": "code",
   "execution_count": 1,
   "metadata": {},
   "outputs": [],
   "source": [
    "# Go to the right directory \n",
    "import os \n",
    "os.chdir(r\"F:\\Tee\\spicemix\\SpiceMix\\SpiceMix\")"
   ]
  },
  {
   "cell_type": "code",
   "execution_count": null,
   "metadata": {},
   "outputs": [],
   "source": [
    "# Import the necessary modules \n",
    "import time, os, sys, pickle, h5py, importlib, gc, copy, re, itertools, json, logging\n",
    "os.environ['OMP_NUM_THREADS'] = '8'\n",
    "os.environ['MKL_NUM_THREADS'] = '8'\n",
    "os.environ['NUMEXPR_NUM_THREADS'] = '8'\n",
    "from tqdm.auto import tqdm, trange\n",
    "from pathlib import Path\n",
    "from util import config_logger\n",
    "\n",
    "import numpy as np, pandas as pd, scipy\n",
    "from sklearn.preprocessing import StandardScaler\n",
    "from sklearn.metrics import silhouette_score, adjusted_rand_score\n",
    "\n",
    "from umap import UMAP\n",
    "\n",
    "import torch\n",
    "torch.set_num_threads(16)\n",
    "\n",
    "from matplotlib import pyplot as plt\n",
    "import seaborn as sns\n",
    "sns.set_style(\"white\")\n",
    "%matplotlib inline\n",
    "%config InlineBackend.figure_format='retina'\n",
    "\n",
    "logger = config_logger(logging.getLogger(__name__))"
   ]
  },
  {
   "cell_type": "code",
   "execution_count": null,
   "metadata": {},
   "outputs": [],
   "source": [
    "# This get around numpy deprecation problem because of the incompatibilities \n",
    "# between different numpy version \n",
    "\n",
    "np.float = float    \n",
    "np.int = int   #module 'numpy' has no attribute 'int'\n",
    "np.object = object    #module 'numpy' has no attribute 'object'\n",
    "np.bool = bool    #module 'numpy' has no attribute 'bool'"
   ]
  },
  {
   "cell_type": "code",
   "execution_count": null,
   "metadata": {},
   "outputs": [],
   "source": [
    "# specify GPU device\n",
    "context = dict(device='cuda:0', dtype=torch.float64)\n",
    "\n",
    "# specify dataset\n",
    "path2dataset = Path(r\"F:\\Tee\\spicemix\\SpiceMix\\data\\synthetic_cortex\")\n",
    "repli_list = [str(i) for i in range(8)]"
   ]
  },
  {
   "cell_type": "markdown",
   "metadata": {},
   "source": [
    "For more information about hyperparameters for `spicemix` please check this [link](https://github.com/ma-compbio/SpiceMix?tab=readme-ov-file#step-3-inferring-latent-states-metagenes-and-pairwise-affinity-matrix)."
   ]
  },
  {
   "cell_type": "code",
   "execution_count": null,
   "metadata": {},
   "outputs": [],
   "source": [
    "from model import SpiceMix\n",
    "from helper import evaluate_embedding_maynard2021 # This function is for the optional on-the-fly evaluation. This is not required for SpiceMix.\n",
    "fn_eval = evaluate_embedding_maynard2021\n",
    "\n",
    "np.random.seed(0)\n",
    "\n",
    "K, num_pcs, n_neighbors, res_lo, res_hi = 10, 50, 20, .5, 2.\n",
    "\n",
    "path2result = path2dataset / 'results' / 'SpiceMix_tutorial_3.h5'\n",
    "os.makedirs(path2result.parent, exist_ok=True)\n",
    "if os.path.exists(path2result):\n",
    "    os.remove(path2result)\n",
    "\n",
    "# This function asks for hyperparameter inputs - it is good to understand what each argument does. \n",
    "obj = SpiceMix(\n",
    "    K=10,\n",
    "    lambda_Sigma_x_inv=1e-6, power_Sigma_x_inv=2,\n",
    "    repli_list=repli_list,\n",
    "    context=context,\n",
    "    context_Y=context,\n",
    "    path2result=path2result,\n",
    ")\n",
    "obj.load_dataset(path2dataset, expression_suffix='', neighbor_suffix='')\n",
    "obj.meta['cell type'] = pd.Categorical(obj.meta['cell type'])\n",
    "# --\n",
    "obj.initialize(\n",
    "    method='louvain', kwargs=dict(num_pcs=num_pcs, n_neighbors=n_neighbors, resolution_boundaries=(res_lo, res_hi), num_rs=10),\n",
    ")\n",
    "for iiter in range(10):\n",
    "    obj.estimate_weights(iiter=iiter, use_spatial=[False]*obj.num_repli)\n",
    "    obj.estimate_parameters(iiter=iiter, use_spatial=[False]*obj.num_repli)\n",
    "obj.initialize_Sigma_x_inv()\n",
    "for iiter in range(1, 201):\n",
    "    logger.info(f'Iteration {iiter}')\n",
    "    obj.estimate_parameters(iiter=iiter, use_spatial=[True]*obj.num_repli)\n",
    "    obj.estimate_weights(iiter=iiter, use_spatial=[True]*obj.num_repli)\n",
    "    if iiter % 50 == 0: # Optional\n",
    "        # We evaluate the learned latent embeddings every 50 iterations\n",
    "        evaluate_embedding_maynard2021(obj)"
   ]
  },
  {
   "cell_type": "markdown",
   "metadata": {},
   "source": [
    "The output file is in HDF5 format, which essentially behaves like Pythonic dictionaries. For more details on the output, please check out this [GitHub repository](https://github.com/ma-compbio/SpiceMix?tab=readme-ov-file#step-4-locating-results)."
   ]
  },
  {
   "cell_type": "code",
   "execution_count": null,
   "metadata": {},
   "outputs": [],
   "source": [
    "# load the result file \n",
    "result_file = Path(r\"F:\\Tee\\spicemix\\SpiceMix\\data\\synthetic_cortex\\results\\SpiceMix_tutorial_3.h5\")"
   ]
  },
  {
   "cell_type": "code",
   "execution_count": null,
   "metadata": {},
   "outputs": [],
   "source": [
    "# Try plotting data \n",
    "\n",
    "# 1. We need to read the coordinate and cell type files \n",
    "coordinate_file = path2dataset / 'files' / 'coordinates_0.txt' \n",
    "cell_type_file = path2dataset / 'files' / 'celltypes_0.txt'\n",
    "\n",
    "# 2. load these files in numpy \n",
    "coordinate_data = np.genfromtxt(coordinate_file, delimiter=' ', dtype='float')\n",
    "cell_type_data = np.genfromtxt(cell_type_file, dtype='str')"
   ]
  },
  {
   "cell_type": "code",
   "execution_count": null,
   "metadata": {},
   "outputs": [],
   "source": [
    "fig, ax = plt.subplots()\n",
    "\n",
    "unique_labels = np.unique(cell_type_data)\n",
    "colors = plt.cm.rainbow(np.linspace(0, 1, len(unique_labels)))\n",
    "colormap = dict(zip(unique_labels, colors))\n",
    "\n",
    "for label in unique_labels:\n",
    "    indices = cell_type_data == label\n",
    "    ax.scatter(coordinate_data[indices, 0], coordinate_data[indices, 1],\n",
    "               label=label, color=colormap[label])\n",
    "\n",
    "plt.xlabel('X coordinate')\n",
    "plt.ylabel('Y coordinate')\n",
    "plt.title('Scatter Plot with Categorical Labels')\n",
    "plt.legend(title='Labels', bbox_to_anchor=(1.05, 1))\n",
    "plt.show()"
   ]
  },
  {
   "cell_type": "markdown",
   "metadata": {},
   "source": [
    "latent state matrix is equivalent to matrix $H$ I have described above. It essentially tells us the \"expression level\" of these metagenes in all single cells."
   ]
  },
  {
   "cell_type": "code",
   "execution_count": null,
   "metadata": {},
   "outputs": [],
   "source": [
    "# latent states is equivalent to matrix W \n",
    "\n",
    "latent_state = f['latent_states/XT/0/50'][:]\n",
    "mins = np.min(latent_state, axis=0)\n",
    "maxs = np.max(latent_state, axis=0)\n",
    "\n",
    "# Normalize the values in each column (single cell) such that the values are between 0 and 1. \n",
    "latent_state_normalized = (latent_state - mins)/(maxs - mins)"
   ]
  },
  {
   "cell_type": "code",
   "execution_count": 17,
   "metadata": {},
   "outputs": [],
   "source": [
    "# Plot the location of these metagenes \n",
    "from matplotlib.colors import Normalize\n",
    "\n",
    "for metagene_id in range(10):\n",
    "    fig, ax = plt.subplots()\n",
    "    \n",
    "    color_variable = latent_state_normalized[:, metagene_id]\n",
    "    norm = Normalize(vmin=0, vmax=1)\n",
    "    \n",
    "    scatter = plt.scatter(coordinate_data[:, 0], coordinate_data[:, 1],\n",
    "                c=color_variable, cmap='Reds', norm=norm)\n",
    "    \n",
    "    cbar = plt.colorbar(scatter)\n",
    "    cbar.set_label('Normalized Level')\n",
    "\n",
    "    plt.title('Metagene {}'.format(metagene_id))\n",
    "    plt.xlabel('X coordinate')\n",
    "    plt.ylabel('Y coordinate')\n",
    "    plt.show()"
   ]
  },
  {
   "cell_type": "markdown",
   "metadata": {},
   "source": [
    "parameter matrix form `spicemix` is equivalent to matrix $W$ I described above: it contains the information about the gene components in metagenes. "
   ]
  },
  {
   "cell_type": "code",
   "execution_count": null,
   "metadata": {},
   "outputs": [],
   "source": [
    "parameters = f['parameters/M/50'][:]\n",
    "mins = np.min(parameters, axis=0)\n",
    "maxs = np.max(parameters, axis=0)\n",
    "\n",
    "# Normalize each column such that it is between 0 and 1\n",
    "parameters_normalized = (parameters - mins)/(maxs - mins)"
   ]
  },
  {
   "cell_type": "code",
   "execution_count": null,
   "metadata": {},
   "outputs": [],
   "source": [
    "# For fun: perform hierarchical clustering to see which the expression level of genes in each metagene\n",
    "\n",
    "sns.clustermap(parameters_normalized, cmap=\"Blue\")"
   ]
  },
  {
   "cell_type": "code",
   "execution_count": null,
   "metadata": {},
   "outputs": [],
   "source": [
    "# For fun #2: we can look at the z-score and look at the differential gene expression across different metagenes \n",
    "\n",
    "sns.clustermap(parameters_normalized, cmap=\"vlag\", center=0, col_cluster=True, z_score=0)\n"
   ]
  }
 ],
 "metadata": {
  "kernelspec": {
   "display_name": "Python 3 (ipykernel)",
   "language": "python",
   "name": "python3"
  },
  "language_info": {
   "codemirror_mode": {
    "name": "ipython",
    "version": 3
   },
   "file_extension": ".py",
   "mimetype": "text/x-python",
   "name": "python",
   "nbconvert_exporter": "python",
   "pygments_lexer": "ipython3",
   "version": "3.10.14"
  }
 },
 "nbformat": 4,
 "nbformat_minor": 4
}
